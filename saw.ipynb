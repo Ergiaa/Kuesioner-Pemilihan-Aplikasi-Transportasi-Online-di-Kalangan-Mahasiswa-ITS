{
 "cells": [
  {
   "cell_type": "code",
   "execution_count": 5,
   "metadata": {},
   "outputs": [],
   "source": [
    "import pandas as pd\n",
    "import numpy as np"
   ]
  },
  {
   "cell_type": "code",
   "execution_count": null,
   "metadata": {},
   "outputs": [
    {
     "name": "stdout",
     "output_type": "stream",
     "text": [
      "             Timestamp                     Nama  Angkatan  \\\n",
      "0  26/11/2024 23:26:48                    Juan       2022   \n",
      "1  26/11/2024 23:28:23       elisabet giabbiani      2023   \n",
      "2  26/11/2024 23:29:46                   Yudhis      2023   \n",
      "3  26/11/2024 23:33:14         Eugenia Indrawan      2022   \n",
      "4  26/11/2024 23:33:36  Frans Nicklaus Gusyanto      2022   \n",
      "\n",
      "  Seberapa sering Anda menggunakan aplikasi transportasi online?  \\\n",
      "0                             Beberapa kali seminggu               \n",
      "1                                        Setiap hari               \n",
      "2                        Beberapa kali dalam sebulan               \n",
      "3                             Beberapa kali seminggu               \n",
      "4                                             Jarang               \n",
      "\n",
      "  Aplikasi transportasi online manakah yang paling sering Anda gunakan?  \\\n",
      "0                                              Gojek                      \n",
      "1                                              Gojek                      \n",
      "2                                              Gojek                      \n",
      "3                                              Gojek                      \n",
      "4                                              Gojek                      \n",
      "\n",
      "   Seberapa puas Anda dengan harga yang ditawarkan aplikasi Grab?  \\\n",
      "0                                                  4                \n",
      "1                                                  4                \n",
      "2                                                  3                \n",
      "3                                                  1                \n",
      "4                                                  3                \n",
      "\n",
      "   Seberapa cepat Grab membantu Anda mendapatkan driver?  \\\n",
      "0                                                  3       \n",
      "1                                                  3       \n",
      "2                                                  3       \n",
      "3                                                  3       \n",
      "4                                                  3       \n",
      "\n",
      "   Seberapa mudah Grab digunakan untuk memesan transportasi?  \\\n",
      "0                                                  3           \n",
      "1                                                  4           \n",
      "2                                                  3           \n",
      "3                                                  3           \n",
      "4                                                  3           \n",
      "\n",
      "   Seberapa sering Anda menemukan kendaraan tersedia di area Anda dengan aplikasi Grab?  \\\n",
      "0                                                  4                                      \n",
      "1                                                  3                                      \n",
      "2                                                  3                                      \n",
      "3                                                  3                                      \n",
      "4                                                  3                                      \n",
      "\n",
      "   Seberapa Anda merasa aman dalam menggunakan aplikasi Grab?  ...  \\\n",
      "0                                                  4           ...   \n",
      "1                                                  3           ...   \n",
      "2                                                  3           ...   \n",
      "3                                                  3           ...   \n",
      "4                                                  3           ...   \n",
      "\n",
      "   Seberapa Anda merasa aman dalam menggunakan aplikasi Maxim?  \\\n",
      "0                                                  1             \n",
      "1                                                  2             \n",
      "2                                                  3             \n",
      "3                                                  1             \n",
      "4                                                  4             \n",
      "\n",
      "   Seberapa sering aplikasi Maxim menawarkan promo yang relevan bagi Anda?  \\\n",
      "0                                                  1                         \n",
      "1                                                  2                         \n",
      "2                                                  2                         \n",
      "3                                                  1                         \n",
      "4                                                  4                         \n",
      "\n",
      "   Bagaimana kualitas pelayanan driver dari aplikasi Maxim?  \\\n",
      "0                                                  1          \n",
      "1                                                  2          \n",
      "2                                                  3          \n",
      "3                                                  1          \n",
      "4                                                  3          \n",
      "\n",
      "   Seberapa puas Anda dengan harga yang ditawarkan aplikasi Gojek?  \\\n",
      "0                                                  4                 \n",
      "1                                                  4                 \n",
      "2                                                  3                 \n",
      "3                                                  4                 \n",
      "4                                                  2                 \n",
      "\n",
      "   Seberapa cepat Gojek membantu Anda mendapatkan driver?  \\\n",
      "0                                                  4        \n",
      "1                                                  4        \n",
      "2                                                  3        \n",
      "3                                                  4        \n",
      "4                                                  3        \n",
      "\n",
      "   Seberapa mudah Gojek digunakan untuk memesan transportasi?  \\\n",
      "0                                                  4            \n",
      "1                                                  4            \n",
      "2                                                  4            \n",
      "3                                                  4            \n",
      "4                                                  4            \n",
      "\n",
      "   Seberapa sering Anda menemukan kendaraan tersedia di area Anda dengan aplikasi Gojek?  \\\n",
      "0                                                  4                                       \n",
      "1                                                  4                                       \n",
      "2                                                  4                                       \n",
      "3                                                  4                                       \n",
      "4                                                  4                                       \n",
      "\n",
      "   Seberapa Anda merasa aman dalam menggunakan aplikasi Gojek?  \\\n",
      "0                                                  4             \n",
      "1                                                  4             \n",
      "2                                                  4             \n",
      "3                                                  4             \n",
      "4                                                  4             \n",
      "\n",
      "   Seberapa sering aplikasi Gojek menawarkan promo yang relevan bagi Anda?  \\\n",
      "0                                                  1                         \n",
      "1                                                  4                         \n",
      "2                                                  4                         \n",
      "3                                                  4                         \n",
      "4                                                  3                         \n",
      "\n",
      "   Bagaimana kualitas pelayanan driver dari aplikasi Gojek?  \n",
      "0                                                  4         \n",
      "1                                                  4         \n",
      "2                                                  3         \n",
      "3                                                  3         \n",
      "4                                                  3         \n",
      "\n",
      "[5 rows x 33 columns]\n"
     ]
    }
   ],
   "source": [
    "# Membaca file CSV\n",
    "file_path = 'Kuesioner Pemilihan Aplikasi Transportasi Online di Kalangan Mahasiswa ITS (Jawaban) - Form Responses 1.csv'\n",
    "data = pd.read_csv(file_path)\n",
    "\n",
    "# Menampilkan data\n",
    "print(data.head())"
   ]
  },
  {
   "cell_type": "code",
   "execution_count": null,
   "metadata": {},
   "outputs": [],
   "source": [
    "# Data input\n",
    "criteria = [\"Harga\", \"Kecepatan Mendapatkan Driver\", \"Kemudahan Penggunaan\",\n",
    "            \"Ketersediaan Kendaraan\", \"Keamanan\", \"Promo Relevan\", \"Kualitas Pelayanan Driver\"]\n",
    "weights = np.array([0.2, 0.2, 0.15, 0.15, 0.15, 0.1, 0.05])\n",
    "alternatives = [\"Grab\", \"InDrive\", \"Maxim\", \"Gojek\"]"
   ]
  },
  {
   "cell_type": "code",
   "execution_count": 18,
   "metadata": {},
   "outputs": [],
   "source": [
    "# Ambil data untuk setiap alternatif\n",
    "grab_data = data.iloc[:, 5:12].mean(axis=0).to_numpy()  # Kriteria Grab\n",
    "indrive_data = data.iloc[:, 12:19].mean(axis=0).to_numpy()  # Kriteria InDrive\n",
    "maxim_data = data.iloc[:, 19:26].mean(axis=0).to_numpy()  # Kriteria Maxim\n",
    "gojek_data = data.iloc[:, 26:33].mean(axis=0).to_numpy()  # Kriteria Gojek"
   ]
  },
  {
   "cell_type": "code",
   "execution_count": 19,
   "metadata": {},
   "outputs": [
    {
     "name": "stdout",
     "output_type": "stream",
     "text": [
      "Grab :  [2.97014925 3.20895522 3.44776119 3.23880597 3.3880597  2.80597015\n",
      " 3.17910448]\n",
      "InDrive :  [2.91044776 2.53731343 2.62686567 2.47761194 2.34328358 2.25373134\n",
      " 2.53731343]\n",
      "Maxim :  [2.76119403 2.47761194 2.53731343 2.41791045 2.3880597  2.34328358\n",
      " 2.52238806]\n",
      "Gojek :  [3.29850746 3.43283582 3.65671642 3.53731343 3.52238806 3.23880597\n",
      " 3.47761194]\n"
     ]
    }
   ],
   "source": [
    "print(\"Grab : \", grab_data)\n",
    "print(\"InDrive : \", indrive_data)\n",
    "print(\"Maxim : \", maxim_data)\n",
    "print(\"Gojek : \", gojek_data)"
   ]
  },
  {
   "cell_type": "code",
   "execution_count": 23,
   "metadata": {},
   "outputs": [
    {
     "name": "stdout",
     "output_type": "stream",
     "text": [
      "[[2.97014925 3.20895522 3.44776119 3.23880597 3.3880597  2.80597015\n",
      "  3.17910448]\n",
      " [2.91044776 2.53731343 2.62686567 2.47761194 2.34328358 2.25373134\n",
      "  2.53731343]\n",
      " [2.76119403 2.47761194 2.53731343 2.41791045 2.3880597  2.34328358\n",
      "  2.52238806]\n",
      " [3.29850746 3.43283582 3.65671642 3.53731343 3.52238806 3.23880597\n",
      "  3.47761194]]\n"
     ]
    }
   ],
   "source": [
    "# Gabungkan semua alternatif\n",
    "decision_matrix = np.vstack([grab_data, indrive_data, maxim_data, gojek_data])\n",
    "print(decision_matrix)"
   ]
  },
  {
   "cell_type": "code",
   "execution_count": 51,
   "metadata": {},
   "outputs": [
    {
     "name": "stdout",
     "output_type": "stream",
     "text": [
      "Skor untuk Grab: 0.9249\n",
      "Skor untuk InDriver: 0.7275\n",
      "Skor untuk Maxim: 0.7171\n",
      "Skor untuk Gojek: 1.0000\n",
      "\n",
      "Alternatif terbaik adalah: Gojek\n"
     ]
    }
   ],
   "source": [
    "# Normalisasi matriks\n",
    "normalized_matrix = []\n",
    "for k in decision_matrix.T:\n",
    "    max_value = np.max(k)\n",
    "    normalized_column = k / max_value\n",
    "    normalized_matrix.append(normalized_column)\n",
    "\n",
    "normalized_matrix = np.array(normalized_matrix).T\n",
    "\n",
    "# Hitung skor SAW\n",
    "scores = normalized_matrix @ weights\n",
    "\n",
    "# Output hasil\n",
    "for alt, score in zip(alternatives, scores):\n",
    "    print(f\"Skor untuk {alt}: {score:.4f}\")\n",
    "\n",
    "# Alternatif terbaik\n",
    "best_alternative = alternatives[np.argmax(scores)]\n",
    "print(f\"\\nAlternatif terbaik adalah: {best_alternative}\")"
   ]
  }
 ],
 "metadata": {
  "kernelspec": {
   "display_name": "Python 3",
   "language": "python",
   "name": "python3"
  },
  "language_info": {
   "codemirror_mode": {
    "name": "ipython",
    "version": 3
   },
   "file_extension": ".py",
   "mimetype": "text/x-python",
   "name": "python",
   "nbconvert_exporter": "python",
   "pygments_lexer": "ipython3",
   "version": "3.12.3"
  }
 },
 "nbformat": 4,
 "nbformat_minor": 2
}
